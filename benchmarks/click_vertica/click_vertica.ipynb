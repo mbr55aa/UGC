{
 "cells": [
  {
   "cell_type": "markdown",
   "metadata": {
    "collapsed": true,
    "pycharm": {
     "name": "#%% md\n"
    }
   },
   "source": [
    "### В рамках исследования были рассмотрены Clickhouse и Vertica."
   ]
  },
  {
   "cell_type": "markdown",
   "metadata": {
    "collapsed": false,
    "pycharm": {
     "name": "#%% md\n"
    }
   },
   "source": [
    "### Запуск"
   ]
  },
  {
   "cell_type": "code",
   "execution_count": null,
   "metadata": {
    "collapsed": false,
    "pycharm": {
     "name": "#%%\n"
    }
   },
   "outputs": [],
   "source": [
    "!docker-compose up -d"
   ]
  },
  {
   "cell_type": "code",
   "execution_count": null,
   "metadata": {
    "collapsed": false,
    "pycharm": {
     "name": "#%%\n"
    }
   },
   "outputs": [],
   "source": [
    "!export PYTHONPATH=\"${PYTHONPATH}:${PWD}/../..\""
   ]
  },
  {
   "cell_type": "markdown",
   "metadata": {
    "collapsed": false,
    "pycharm": {
     "name": "#%% md\n"
    }
   },
   "source": [
    "#### Загрузка тестовых данных в Clickhouse"
   ]
  },
  {
   "cell_type": "code",
   "execution_count": 1,
   "metadata": {
    "collapsed": false,
    "pycharm": {
     "name": "#%%\n"
    }
   },
   "outputs": [],
   "source": [
    "from multiprocessing import Pool\n",
    "\n",
    "import tqdm as tqdm\n",
    "from clickhouse_driver import Client\n",
    "\n",
    "from utils.fake_data_gen import Row, generate_fake_data\n",
    "from config import CLICKHOUSE_HOST, NUMBER_OF_BATCHES, UPLOAD_BATCH_SIZE\n",
    "\n",
    "client = Client(CLICKHOUSE_HOST)\n",
    "\n",
    "\n",
    "def upload_batch(batch):\n",
    "    columns = ', '.join(Row._fields)\n",
    "    client.execute(\n",
    "        f'INSERT INTO views ({columns}) VALUES',\n",
    "        batch\n",
    "    )"
   ]
  },
  {
   "cell_type": "code",
   "execution_count": 2,
   "metadata": {
    "collapsed": false,
    "pycharm": {
     "name": "#%%\n"
    }
   },
   "outputs": [
    {
     "name": "stderr",
     "output_type": "stream",
     "text": [
      "100%|██████████| 1000/1000 [02:10<00:00,  7.65it/s]\n"
     ]
    }
   ],
   "source": [
    "test_data = generate_fake_data(UPLOAD_BATCH_SIZE, NUMBER_OF_BATCHES)\n",
    "\n",
    "with Pool() as pool:\n",
    "    r = list(tqdm.tqdm(\n",
    "        pool.imap(upload_batch, test_data),\n",
    "        total=NUMBER_OF_BATCHES\n",
    "    ))"
   ]
  },
  {
   "cell_type": "markdown",
   "metadata": {
    "collapsed": false,
    "pycharm": {
     "name": "#%% md\n"
    }
   },
   "source": [
    "#### Загрузка тестовых данных в Vertica"
   ]
  },
  {
   "cell_type": "code",
   "execution_count": 3,
   "metadata": {
    "collapsed": false,
    "pycharm": {
     "name": "#%%\n"
    }
   },
   "outputs": [],
   "source": [
    "from multiprocessing import Pool\n",
    "\n",
    "import tqdm\n",
    "import vertica_python\n",
    "\n",
    "from utils.fake_data_gen import Row, generate_fake_data\n",
    "from config import NUMBER_OF_BATCHES, UPLOAD_BATCH_SIZE, VERTICA_CONNECTION_PARAMS\n",
    "\n",
    "\n",
    "def upload_batch(batch):\n",
    "    with vertica_python.connect(**VERTICA_CONNECTION_PARAMS) as connection:\n",
    "        columns = ', '.join(Row._fields)\n",
    "        placeholders = ', '.join(['%s'] * len(Row._fields))\n",
    "        cursor = connection.cursor()\n",
    "        cursor.executemany(\n",
    "            f'INSERT INTO views ({columns}) VALUES ({placeholders})',\n",
    "            batch\n",
    "        )"
   ]
  },
  {
   "cell_type": "code",
   "execution_count": 4,
   "metadata": {
    "collapsed": false,
    "pycharm": {
     "name": "#%%\n"
    }
   },
   "outputs": [
    {
     "name": "stdout",
     "output_type": "stream",
     "text": [
      "<generator object generate_fake_data.<locals>.<genexpr> at 0x7f561c320580>\n"
     ]
    },
    {
     "name": "stderr",
     "output_type": "stream",
     "text": [
      "100%|██████████| 1000/1000 [05:31<00:00,  3.02it/s]\n"
     ]
    }
   ],
   "source": [
    "test_data = generate_fake_data(UPLOAD_BATCH_SIZE, NUMBER_OF_BATCHES)\n",
    "with Pool() as pool:\n",
    "    r = list(tqdm.tqdm(\n",
    "        pool.imap(upload_batch, test_data),\n",
    "        total=NUMBER_OF_BATCHES\n",
    "    ))"
   ]
  },
  {
   "cell_type": "markdown",
   "metadata": {
    "collapsed": false,
    "pycharm": {
     "name": "#%% md\n"
    }
   },
   "source": [
    "### Выполнение тестовых запросов"
   ]
  },
  {
   "cell_type": "markdown",
   "metadata": {
    "collapsed": false,
    "pycharm": {
     "name": "#%% md\n"
    }
   },
   "source": [
    "Использовались следующие тестовые запросы:"
   ]
  },
  {
   "cell_type": "code",
   "execution_count": 5,
   "metadata": {
    "collapsed": false,
    "pycharm": {
     "name": "#%%\n"
    }
   },
   "outputs": [
    {
     "name": "stdout",
     "output_type": "stream",
     "text": [
      "average_movies_per_user\n",
      "select avg(movies_watched) from ( select count(movie_id) as movies_watched from views group by user_id    ) as movies_count;\n",
      "----------\n",
      "average_view_times\n",
      "select avg(viewed_frame) from views;\n",
      "----------\n",
      "top_20_users_by_total_view_time\n",
      "select user_id, sum(viewed_frame) as view_time from views group by user_id order by view_time desc limit 20;\n",
      "----------\n",
      "top_20_movies_by_view_time\n",
      "select movie_id, max(viewed_frame) as view_time from views group by movie_id order by view_time desc limit 20;\n",
      "----------\n",
      "unique_movies_count\n",
      "select count(distinct movie_id) from views;\n",
      "----------\n",
      "unique_users_count\n",
      "select count(distinct user_id) from views;\n",
      "----------\n"
     ]
    }
   ],
   "source": [
    "from utils.test_queries import QUERIES\n",
    "\n",
    "for name, query in QUERIES.items():\n",
    "    print(f'{name}')\n",
    "    print(f'{query}')\n",
    "    print(\"----------\")"
   ]
  },
  {
   "cell_type": "markdown",
   "metadata": {
    "collapsed": false,
    "pycharm": {
     "name": "#%% md\n"
    }
   },
   "source": [
    "#### Тестирование Clickhouse"
   ]
  },
  {
   "cell_type": "code",
   "execution_count": 6,
   "metadata": {
    "collapsed": false,
    "pycharm": {
     "name": "#%%\n"
    }
   },
   "outputs": [],
   "source": [
    "from clickhouse_driver import Client\n",
    "\n",
    "from utils.test_queries import QUERIES\n",
    "from utils.timer import timer\n",
    "from config import BENCHMARK_ITERATIONS, CLICKHOUSE_HOST\n",
    "\n",
    "client = Client(CLICKHOUSE_HOST)\n",
    "\n",
    "\n",
    "@timer(BENCHMARK_ITERATIONS)\n",
    "def execute_query(query: str):\n",
    "    client.execute(query)"
   ]
  },
  {
   "cell_type": "code",
   "execution_count": 7,
   "metadata": {
    "collapsed": false,
    "pycharm": {
     "name": "#%%\n"
    }
   },
   "outputs": [
    {
     "name": "stdout",
     "output_type": "stream",
     "text": [
      "average_movies_per_user\n",
      "Average execution time (over 10 runs): 0.8351 seconds\n",
      "\n",
      "average_view_times\n",
      "Average execution time (over 10 runs): 0.0668 seconds\n",
      "\n",
      "top_20_users_by_total_view_time\n",
      "Average execution time (over 10 runs): 0.6475 seconds\n",
      "\n",
      "top_20_movies_by_view_time\n",
      "Average execution time (over 10 runs): 0.3404 seconds\n",
      "\n",
      "unique_movies_count\n",
      "Average execution time (over 10 runs): 0.1960 seconds\n",
      "\n",
      "unique_users_count\n",
      "Average execution time (over 10 runs): 0.3617 seconds\n",
      "\n"
     ]
    }
   ],
   "source": [
    "for name, query in QUERIES.items():\n",
    "    print(f'{name}')\n",
    "    execute_query(query)"
   ]
  },
  {
   "cell_type": "markdown",
   "metadata": {
    "collapsed": false,
    "pycharm": {
     "name": "#%% md\n"
    }
   },
   "source": [
    "#### Тестирование Vertica"
   ]
  },
  {
   "cell_type": "code",
   "execution_count": 8,
   "metadata": {
    "collapsed": false,
    "pycharm": {
     "name": "#%%\n"
    }
   },
   "outputs": [],
   "source": [
    "import vertica_python\n",
    "\n",
    "from utils.test_queries import QUERIES\n",
    "from utils.timer import timer\n",
    "from config import BENCHMARK_ITERATIONS, VERTICA_CONNECTION_PARAMS\n",
    "\n",
    "\n",
    "@timer(BENCHMARK_ITERATIONS)\n",
    "def execute_query(query: str):\n",
    "    with vertica_python.connect(**VERTICA_CONNECTION_PARAMS) as connection:\n",
    "        cursor = connection.cursor()\n",
    "        cursor.execute(query)"
   ]
  },
  {
   "cell_type": "code",
   "execution_count": 9,
   "metadata": {
    "collapsed": false,
    "pycharm": {
     "name": "#%%\n"
    }
   },
   "outputs": [
    {
     "name": "stdout",
     "output_type": "stream",
     "text": [
      "average_movies_per_user\n",
      "Average execution time (over 10 runs): 1.5935 seconds\n",
      "\n",
      "average_view_times\n",
      "Average execution time (over 10 runs): 0.1601 seconds\n",
      "\n",
      "top_20_users_by_total_view_time\n",
      "Average execution time (over 10 runs): 1.5920 seconds\n",
      "\n",
      "top_20_movies_by_view_time\n",
      "Average execution time (over 10 runs): 1.4446 seconds\n",
      "\n",
      "unique_movies_count\n",
      "Average execution time (over 10 runs): 1.3468 seconds\n",
      "\n",
      "unique_users_count\n",
      "Average execution time (over 10 runs): 1.1616 seconds\n",
      "\n"
     ]
    }
   ],
   "source": [
    "for name, query in QUERIES.items():\n",
    "    print(f'{name}')\n",
    "    execute_query(query)"
   ]
  },
  {
   "cell_type": "markdown",
   "metadata": {
    "collapsed": false,
    "pycharm": {
     "name": "#%% md\n"
    }
   },
   "source": [
    "### Вывод\n",
    "\n",
    "Clickhouse лучше во всех тестах! \n",
    "Выбираем сlickhouse."
   ]
  },
  {
   "cell_type": "markdown",
   "metadata": {
    "collapsed": false,
    "pycharm": {
     "name": "#%% md\n"
    }
   },
   "source": [
    "### Остановка"
   ]
  },
  {
   "cell_type": "code",
   "execution_count": 10,
   "metadata": {
    "collapsed": false,
    "pycharm": {
     "name": "#%%\n"
    }
   },
   "outputs": [
    {
     "name": "stdout",
     "output_type": "stream",
     "text": [
      "Stopping click_vertica_clickhouse_1 ... \n",
      "Stopping click_vertica_vertica_1    ... \n",
      "\u001b[1Bping click_vertica_vertica_1    ... \u001b[32mdone\u001b[0m\u001b[1A\u001b[2KRemoving click_vertica_clickhouse_1 ... \n",
      "Removing click_vertica_vertica_1    ... \n",
      "\u001b[1BRemoving network click_vertica_default32mdone\u001b[0m\n",
      "Removing volume click_vertica_ugc_bench_clickhouse_data\n",
      "Removing volume click_vertica_ugc_bench_vertica_data\n"
     ]
    }
   ],
   "source": [
    "!docker-compose down -v"
   ]
  }
 ],
 "metadata": {
  "kernelspec": {
   "display_name": "Python 3",
   "language": "python",
   "name": "python3"
  },
  "language_info": {
   "codemirror_mode": {
    "name": "ipython",
    "version": 3
   },
   "file_extension": ".py",
   "mimetype": "text/x-python",
   "name": "python",
   "nbconvert_exporter": "python",
   "pygments_lexer": "ipython3",
   "version": "3.9.5"
  }
 },
 "nbformat": 4,
 "nbformat_minor": 0
}
